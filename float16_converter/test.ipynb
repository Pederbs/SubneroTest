{
 "cells": [
  {
   "cell_type": "code",
   "execution_count": 15,
   "metadata": {},
   "outputs": [
    {
     "name": "stdout",
     "output_type": "stream",
     "text": [
      "Value to convert: 23.56789\n",
      "Value after conversion: 23.56\n",
      "\n",
      "First byte: 77\n",
      "01001101\n",
      "\n",
      "Second byte: 228\n",
      "11100100\n"
     ]
    }
   ],
   "source": [
    "#import module\n",
    "import FP16_converter as module\n",
    "\n",
    "# Converting String to binary\n",
    "# Not needed enymore?\n",
    "def string_to_bin(arg):\n",
    "    return ''.join(format(ord(i), '08b') for i in arg)\n",
    "\n",
    "def int_to_bin(arg):\n",
    "    return '{0:08b}'.format(arg)\n",
    "\n",
    "value = 23.56789\n",
    "array = [0,0]\n",
    "\n",
    "# Converting to Byte\n",
    "array = module.Converter.FP16_to_bytes(value)\n",
    "\n",
    "# Converting from Byte\n",
    "value_recieved = module.Converter.bytes_to_FP16(array[0], array[1])\n",
    "\n",
    "# Output\n",
    "print('Value to convert: ' + str(value))\n",
    "print('Value after conversion: ' + str(value_recieved))\n",
    "\n",
    "print('\\nFirst byte: ' + str(array[0]) + '\\n' + int_to_bin(array[0]))\n",
    "print('\\nSecond byte: ' + str(array[1]) + '\\n' + int_to_bin(array[1]))\n",
    "\n"
   ]
  },
  {
   "attachments": {},
   "cell_type": "markdown",
   "metadata": {},
   "source": [
    "# To graycode\n"
   ]
  },
  {
   "cell_type": "code",
   "execution_count": 53,
   "metadata": {},
   "outputs": [
    {
     "name": "stdout",
     "output_type": "stream",
     "text": [
      "Original 2 bytes: 01001101,11100100\n",
      "Graycode 2 bytes: 01101011,10010110\n"
     ]
    }
   ],
   "source": [
    "import sys\n",
    "# sys.path.append('../graycode_compression')  # add the path to graycode_compression directory\n",
    "from graycode_lib import Graycode # import the Graycode class from graycode_lib.py\n",
    "\n",
    "gc = Graycode()\n",
    "print('Original 2 bytes: ' + int_to_bin(array[0]) + ',' + int_to_bin(array[1]))\n",
    "print('Graycode 2 bytes: ' + int_to_bin(gc.equivalent(array[0])) + ',' + int_to_bin(gc.equivalent(array[1])))\n"
   ]
  }
 ],
 "metadata": {
  "kernelspec": {
   "display_name": "Python 3",
   "language": "python",
   "name": "python3"
  },
  "language_info": {
   "codemirror_mode": {
    "name": "ipython",
    "version": 3
   },
   "file_extension": ".py",
   "mimetype": "text/x-python",
   "name": "python",
   "nbconvert_exporter": "python",
   "pygments_lexer": "ipython3",
   "version": "3.10.6"
  },
  "orig_nbformat": 4
 },
 "nbformat": 4,
 "nbformat_minor": 2
}
