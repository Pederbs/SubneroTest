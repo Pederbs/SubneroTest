{
 "cells": [
  {
   "cell_type": "code",
   "execution_count": 18,
   "metadata": {},
   "outputs": [
    {
     "name": "stdout",
     "output_type": "stream",
     "text": [
      "/home/peder/GitHub/Tools/graycode_compression\n"
     ]
    }
   ],
   "source": [
    "# For making the module work\n",
    "## Not needed anymore\n",
    "import os\n",
    "import sys\n",
    "path = os.getcwd()\n",
    "print(path)\n",
    "sys.path.append(path)"
   ]
  },
  {
   "cell_type": "code",
   "execution_count": 14,
   "metadata": {},
   "outputs": [],
   "source": [
    "from graycode_lib import Graycode\n",
    "gc = Graycode()"
   ]
  },
  {
   "attachments": {},
   "cell_type": "markdown",
   "metadata": {},
   "source": [
    "# Packing"
   ]
  },
  {
   "cell_type": "code",
   "execution_count": 15,
   "metadata": {},
   "outputs": [
    {
     "name": "stdout",
     "output_type": "stream",
     "text": [
      "15\n",
      "1000\n",
      "9\n"
     ]
    }
   ],
   "source": [
    "ll = 50\n",
    "ul = 100\n",
    "b = 4\n",
    "g = 1\n",
    "reading = 100\n",
    "\n",
    "c = gc.compress(reading, ll, ul, b, g)\n",
    "stream = gc.to_bin(c, b)\n",
    "print(c)\n",
    "print(stream)\n",
    "print(gc.equivalent(14))"
   ]
  },
  {
   "attachments": {},
   "cell_type": "markdown",
   "metadata": {},
   "source": [
    "# Unpacking\n"
   ]
  },
  {
   "cell_type": "code",
   "execution_count": 16,
   "metadata": {},
   "outputs": [
    {
     "name": "stdout",
     "output_type": "stream",
     "text": [
      "100.0\n"
     ]
    }
   ],
   "source": [
    "print(gc.unpack(stream,ll,ul,4,1))"
   ]
  },
  {
   "cell_type": "code",
   "execution_count": 17,
   "metadata": {},
   "outputs": [
    {
     "data": {
      "image/png": "[encoded data removed]",
      "text/plain": [
       "<Figure size 640x480 with 1 Axes>"
      ]
     },
     "metadata": {},
     "output_type": "display_data"
    }
   ],
   "source": [
    "import matplotlib.pyplot as plt\n",
    "\n",
    "number_list = []\n",
    "compress_list = []\n",
    "n = 16**2\n",
    "\n",
    "for i in range(n):\n",
    "    number_list.append(i)\n",
    "    compress_list.append(gc.compress(i,0,n,4,1))\n",
    "\n",
    "del number_list[0]\n",
    "del compress_list[0]\n",
    "\n",
    "plt.scatter(number_list,compress_list)\n",
    "plt.show()"
   ]
  },
  {
   "cell_type": "code",
   "execution_count": null,
   "metadata": {},
   "outputs": [],
   "source": []
  }
 ],
 "metadata": {
  "kernelspec": {
   "display_name": "Python 3",
   "language": "python",
   "name": "python3"
  },
  "language_info": {
   "codemirror_mode": {
    "name": "ipython",
    "version": 3
   },
   "file_extension": ".py",
   "mimetype": "text/x-python",
   "name": "python",
   "nbconvert_exporter": "python",
   "pygments_lexer": "ipython3",
   "version": "3.10.6"
  },
  "orig_nbformat": 4
 },
 "nbformat": 4,
 "nbformat_minor": 2
}
