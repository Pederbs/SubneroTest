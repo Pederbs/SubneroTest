{
 "cells": [
  {
   "cell_type": "code",
   "execution_count": 10,
   "metadata": {},
   "outputs": [
    {
     "name": "stdout",
     "output_type": "stream",
     "text": [
      "Value to convert: 23.56789\n",
      "Value after conversion: 23.56\n",
      "\n",
      "First byte: M\n",
      "01001101\n",
      "\n",
      "Second byte: ä\n",
      "11100100\n"
     ]
    }
   ],
   "source": [
    "#import module\n",
    "import FP16_converter as module\n",
    "\n",
    "# Converting String to binary\n",
    "def toBin(arg):\n",
    "    return ''.join(format(ord(i), '08b') for i in arg)\n",
    "\n",
    "value = 23.56789\n",
    "array = [0,0]\n",
    "\n",
    "# Converting to Byte\n",
    "array = module.Converter.FP16_to_chars(value)\n",
    "\n",
    "# Converting from Byte\n",
    "value_recieved = module.Converter.chars_to_FP16(array)\n",
    "\n",
    "# Output\n",
    "print('Value to convert: ' + str(value))\n",
    "print('Value after conversion: ' + str(value_recieved))\n",
    "\n",
    "print('\\nFirst byte: ' + array[0] + '\\n' + toBin(array[0]))\n",
    "print('\\nSecond byte: ' + array[1] + '\\n' + toBin(array[1]))"
   ]
  }
 ],
 "metadata": {
  "kernelspec": {
   "display_name": "Python 3",
   "language": "python",
   "name": "python3"
  },
  "language_info": {
   "codemirror_mode": {
    "name": "ipython",
    "version": 3
   },
   "file_extension": ".py",
   "mimetype": "text/x-python",
   "name": "python",
   "nbconvert_exporter": "python",
   "pygments_lexer": "ipython3",
   "version": "3.10.6"
  },
  "orig_nbformat": 4
 },
 "nbformat": 4,
 "nbformat_minor": 2
}
